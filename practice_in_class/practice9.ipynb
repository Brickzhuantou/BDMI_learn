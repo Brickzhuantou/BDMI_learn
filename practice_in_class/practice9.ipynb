{
 "cells": [
  {
   "cell_type": "code",
   "execution_count": 14,
   "metadata": {},
   "outputs": [],
   "source": [
    "import numpy as np\n",
    "import tensorflow as tf"
   ]
  },
  {
   "cell_type": "code",
   "execution_count": 6,
   "metadata": {},
   "outputs": [
    {
     "data": {
      "text/plain": [
       "array([[[4, 2, 5, 5],\n",
       "        [6, 7, 3, 1],\n",
       "        [5, 1, 8, 6]],\n",
       "\n",
       "       [[0, 7, 4, 2],\n",
       "        [9, 8, 2, 9],\n",
       "        [8, 2, 6, 5]]])"
      ]
     },
     "execution_count": 6,
     "metadata": {},
     "output_type": "execute_result"
    }
   ],
   "source": [
    "A =  np.random.randint(10, size=(3, 3))\n",
    "A =  np.random.randint(10, size=(2, 3, 4))\n",
    "A"
   ]
  },
  {
   "cell_type": "code",
   "execution_count": 13,
   "metadata": {},
   "outputs": [
    {
     "data": {
      "text/plain": [
       "array([ 8315, 17607])"
      ]
     },
     "execution_count": 13,
     "metadata": {},
     "output_type": "execute_result"
    }
   ],
   "source": [
    "x = np.array([22,35,86])\n",
    "W1 = np.random.randint(10,size = (3,3))\n",
    "W2 = np.random.randint(10, size = (2,3))\n",
    "y = np.dot(W2,np.dot(W1,x))\n",
    "y"
   ]
  },
  {
   "cell_type": "code",
   "execution_count": 18,
   "metadata": {},
   "outputs": [
    {
     "data": {
      "text/plain": [
       "<tf.Tensor: shape=(3,), dtype=int32, numpy=array([1, 3, 3])>"
      ]
     },
     "execution_count": 18,
     "metadata": {},
     "output_type": "execute_result"
    }
   ],
   "source": [
    "tf.constant([1,3,3])"
   ]
  },
  {
   "cell_type": "code",
   "execution_count": 20,
   "metadata": {},
   "outputs": [
    {
     "data": {
      "text/plain": [
       "<tf.Tensor: shape=(3, 2), dtype=int32, numpy=\n",
       "array([[1, 2],\n",
       "       [3, 4],\n",
       "       [5, 6]])>"
      ]
     },
     "execution_count": 20,
     "metadata": {},
     "output_type": "execute_result"
    }
   ],
   "source": [
    "tf.constant([[1,2],\n",
    "            [3,4],\n",
    "            [5,6]])"
   ]
  },
  {
   "cell_type": "code",
   "execution_count": 21,
   "metadata": {},
   "outputs": [
    {
     "data": {
      "text/plain": [
       "<tf.Tensor: shape=(4, 4), dtype=float32, numpy=\n",
       "array([[-1.4219494 ,  0.19962718,  0.795519  ,  1.0713714 ],\n",
       "       [ 0.64298373,  0.16521473, -0.5913153 ,  0.55314785],\n",
       "       [-1.606017  , -1.0469449 ,  1.7008187 ,  0.7339621 ],\n",
       "       [ 0.2889139 , -0.33418536,  1.9213187 , -0.79617506]],\n",
       "      dtype=float32)>"
      ]
     },
     "execution_count": 21,
     "metadata": {},
     "output_type": "execute_result"
    }
   ],
   "source": [
    "tf.random.normal([4,4])"
   ]
  },
  {
   "cell_type": "code",
   "execution_count": 22,
   "metadata": {
    "collapsed": true
   },
   "outputs": [
    {
     "data": {
      "text/plain": [
       "<tf.Tensor: shape=(4, 5, 6), dtype=float32, numpy=\n",
       "array([[[-0.46677303,  0.4314998 ,  1.0164458 ,  0.56780326,\n",
       "         -1.2579349 ,  0.9432379 ],\n",
       "        [-0.50176966,  0.62541306,  0.10273376, -2.4389775 ,\n",
       "         -0.27323484,  0.6415897 ],\n",
       "        [-1.212178  ,  0.30436802,  0.10282056, -1.1749554 ,\n",
       "          1.4242604 , -0.3219256 ],\n",
       "        [-0.36096624,  0.07868027,  1.5238116 , -0.65154505,\n",
       "          0.14318174,  0.8864308 ],\n",
       "        [ 0.5363786 , -0.12080996, -0.28463626, -0.53843737,\n",
       "          0.923112  , -0.65019196]],\n",
       "\n",
       "       [[ 0.00755003,  0.71976453, -1.0752836 ,  1.3163055 ,\n",
       "         -1.160079  ,  0.9309412 ],\n",
       "        [ 0.6246599 ,  0.74764156,  0.80710834, -1.8873684 ,\n",
       "         -0.98103476,  1.6380117 ],\n",
       "        [ 1.1735942 ,  0.85249305, -1.5080464 ,  0.38521147,\n",
       "         -1.8057642 ,  1.0838171 ],\n",
       "        [ 1.7236524 , -1.3299032 ,  1.4735434 , -0.17230794,\n",
       "         -0.40876338,  0.15033221],\n",
       "        [ 0.82292295,  1.6803334 ,  0.50062937,  0.8380173 ,\n",
       "         -0.45177585,  0.32719794]],\n",
       "\n",
       "       [[-0.03353478, -0.34042394, -1.0900847 , -0.46922344,\n",
       "         -1.125414  , -1.8320005 ],\n",
       "        [ 0.77277386, -1.9437106 ,  1.3742028 ,  0.5465629 ,\n",
       "         -1.0117445 , -0.6249714 ],\n",
       "        [-0.55543023, -0.21254587, -0.11214528, -0.5837808 ,\n",
       "         -0.00300963, -0.04465629],\n",
       "        [-1.4739822 ,  0.7468437 , -0.47836104,  1.165642  ,\n",
       "         -1.3455232 , -1.3771461 ],\n",
       "        [ 0.15873577, -2.0466673 ,  0.3518409 ,  0.9341297 ,\n",
       "         -0.4472349 ,  0.38239628]],\n",
       "\n",
       "       [[ 1.3494204 ,  0.23592636, -0.5696604 , -0.07191326,\n",
       "         -0.2143999 , -0.687034  ],\n",
       "        [ 0.4677403 , -1.1607888 , -1.0816369 , -0.7407123 ,\n",
       "          2.0563362 ,  0.30782488],\n",
       "        [-0.60828346,  2.2456121 , -1.2142068 , -0.18752603,\n",
       "         -0.92742103, -0.5011846 ],\n",
       "        [-1.6252152 , -0.13495794,  0.9825278 ,  0.99244356,\n",
       "          1.3391244 ,  0.03555749],\n",
       "        [-0.05336101, -1.0088775 ,  1.1425602 , -0.76592976,\n",
       "         -0.05528323, -1.4865077 ]]], dtype=float32)>"
      ]
     },
     "execution_count": 22,
     "metadata": {},
     "output_type": "execute_result"
    }
   ],
   "source": [
    "tf.random.normal([4,5,6])"
   ]
  },
  {
   "cell_type": "code",
   "execution_count": 24,
   "metadata": {},
   "outputs": [
    {
     "name": "stdout",
     "output_type": "stream",
     "text": [
      "tf.Tensor(\n",
      "[[ 1  4]\n",
      " [ 9 16]], shape=(2, 2), dtype=int32)\n",
      "tf.Tensor(\n",
      "[[ 7 10]\n",
      " [15 22]], shape=(2, 2), dtype=int32)\n"
     ]
    }
   ],
   "source": [
    "a = tf.constant([[1,2],\n",
    "                [3,4]])\n",
    "b = tf.constant([[1,2],\n",
    "                [3,4]])\n",
    "print(a*b)\n",
    "print(a@b)"
   ]
  },
  {
   "cell_type": "code",
   "execution_count": 26,
   "metadata": {
    "collapsed": true
   },
   "outputs": [
    {
     "ename": "SyntaxError",
     "evalue": "invalid character in identifier (<ipython-input-26-f9930807553c>, line 1)",
     "output_type": "error",
     "traceback": [
      "\u001b[1;36m  File \u001b[1;32m\"<ipython-input-26-f9930807553c>\"\u001b[1;36m, line \u001b[1;32m1\u001b[0m\n\u001b[1;33m    ·形状：张量的每个维度的长度\u001b[0m\n\u001b[1;37m                 ^\u001b[0m\n\u001b[1;31mSyntaxError\u001b[0m\u001b[1;31m:\u001b[0m invalid character in identifier\n"
     ]
    }
   ],
   "source": [
    "·形状：张量的每个维度的长度\n",
    "·秩：张量的维度数量\n",
    "·轴：张量的一个特殊维度\n"
   ]
  },
  {
   "cell_type": "code",
   "execution_count": 31,
   "metadata": {},
   "outputs": [
    {
     "data": {
      "text/plain": [
       "<tf.Tensor: shape=(1, 3, 2), dtype=float32, numpy=\n",
       "array([[[-0.45500013, -0.28969118],\n",
       "        [-0.72899413,  0.15903997],\n",
       "        [ 1.2459145 , -0.5031812 ]]], dtype=float32)>"
      ]
     },
     "execution_count": 31,
     "metadata": {},
     "output_type": "execute_result"
    }
   ],
   "source": [
    "A = tf.random.normal([1,3,2])\n",
    "A"
   ]
  },
  {
   "cell_type": "code",
   "execution_count": 35,
   "metadata": {},
   "outputs": [
    {
     "data": {
      "text/plain": [
       "<tf.Tensor: shape=(), dtype=float32, numpy=-0.5031812>"
      ]
     },
     "execution_count": 35,
     "metadata": {},
     "output_type": "execute_result"
    }
   ],
   "source": [
    "A[0,-1,-1]"
   ]
  },
  {
   "cell_type": "code",
   "execution_count": 38,
   "metadata": {},
   "outputs": [
    {
     "data": {
      "text/plain": [
       "<tf.RaggedTensor [[0, 1, 2, 3], [4, 5], [6, 7, 8], [9]]>"
      ]
     },
     "execution_count": 38,
     "metadata": {},
     "output_type": "execute_result"
    }
   ],
   "source": [
    "ragged_list = [\n",
    "    [0,1,2,3],\n",
    "    [4,5],\n",
    "    [6,7,8],\n",
    "    [9]\n",
    "]\n",
    "\n",
    "ragged_tensor = tf.ragged.constant(ragged_list)\n",
    "ragged_tensor"
   ]
  },
  {
   "cell_type": "code",
   "execution_count": 39,
   "metadata": {},
   "outputs": [
    {
     "name": "stdout",
     "output_type": "stream",
     "text": [
      "<function set_log_device_placement at 0x000002AD6A881E58>\n"
     ]
    }
   ],
   "source": [
    "print(tf.debugging.set_log_device_placement)"
   ]
  },
  {
   "cell_type": "code",
   "execution_count": 55,
   "metadata": {},
   "outputs": [
    {
     "name": "stdout",
     "output_type": "stream",
     "text": [
      "tf.Tensor([2 2], shape=(2,), dtype=int64)\n",
      "tf.Tensor([2 2], shape=(2,), dtype=int64)\n",
      "tf.Tensor([1 1 1], shape=(3,), dtype=int64)\n",
      "tf.Tensor([2 2], shape=(2,), dtype=int64)\n",
      "tf.Tensor([2 2], shape=(2,), dtype=int64)\n",
      "tf.Tensor([1 1 1], shape=(3,), dtype=int64)\n"
     ]
    }
   ],
   "source": [
    "a = tf.constant([[1,2],\n",
    "                [3,4],\n",
    "                [5,6]])\n",
    "a_variable = tf.Variable(a)\n",
    "print(tf.argmax(a_variable))\n",
    "print(tf.argmax(a_variable,0))\n",
    "print(tf.argmax(a_variable,1))\n",
    "print(tf.argmax(a))\n",
    "print(tf.argmax(a,0))\n",
    "print(tf.argmax(a,1))"
   ]
  },
  {
   "cell_type": "code",
   "execution_count": 56,
   "metadata": {},
   "outputs": [],
   "source": [
    "x = tf.ones((2,2))"
   ]
  },
  {
   "cell_type": "code",
   "execution_count": 58,
   "metadata": {},
   "outputs": [
    {
     "data": {
      "text/plain": [
       "<tf.Tensor: shape=(), dtype=float32, numpy=4.7182817>"
      ]
     },
     "execution_count": 58,
     "metadata": {},
     "output_type": "execute_result"
    }
   ],
   "source": [
    "x = tf.constant(1.0)\n",
    "with tf.GradientTape(persistent = True) as t:\n",
    "    t.watch(x)\n",
    "    y = x**2+tf.exp(x)\n",
    "dy_dx = t.gradient(y,x)\n",
    "dy_dx"
   ]
  },
  {
   "cell_type": "code",
   "execution_count": null,
   "metadata": {},
   "outputs": [],
   "source": []
  }
 ],
 "metadata": {
  "kernelspec": {
   "display_name": "Python 3",
   "language": "python",
   "name": "python3"
  },
  "language_info": {
   "codemirror_mode": {
    "name": "ipython",
    "version": 3
   },
   "file_extension": ".py",
   "mimetype": "text/x-python",
   "name": "python",
   "nbconvert_exporter": "python",
   "pygments_lexer": "ipython3",
   "version": "3.7.9"
  }
 },
 "nbformat": 4,
 "nbformat_minor": 4
}
