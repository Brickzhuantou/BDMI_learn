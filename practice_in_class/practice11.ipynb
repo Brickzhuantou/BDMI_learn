{
 "cells": [
  {
   "cell_type": "code",
   "execution_count": 5,
   "metadata": {},
   "outputs": [],
   "source": [
    "import tensorflow as tf\n",
    "from tensorflow import keras\n",
    "from tensorflow.keras import layers"
   ]
  },
  {
   "cell_type": "code",
   "execution_count": 7,
   "metadata": {},
   "outputs": [
    {
     "data": {
      "text/plain": [
       "<tf.Tensor: shape=(3, 4), dtype=float32, numpy=\n",
       "array([[ 0.64961475,  0.02863168, -0.21038237,  0.6071898 ],\n",
       "       [ 0.64961475,  0.02863168, -0.21038237,  0.6071898 ],\n",
       "       [ 0.64961475,  0.02863168, -0.21038237,  0.6071898 ]],\n",
       "      dtype=float32)>"
      ]
     },
     "execution_count": 7,
     "metadata": {},
     "output_type": "execute_result"
    }
   ],
   "source": [
    "model = keras.Sequential(\n",
    "    [\n",
    "        layers.Dense(2,activation = 'relu',name = 'layer1'),\n",
    "        layers.Dense(3, activation = 'relu', name = 'layer2'),\n",
    "        layers.Dense(4, name = 'layet3')\n",
    "        \n",
    "    ]\n",
    ")\n",
    "x = tf.ones((3,3))\n",
    "y = model(x)\n",
    "y"
   ]
  },
  {
   "cell_type": "code",
   "execution_count": 11,
   "metadata": {},
   "outputs": [
    {
     "name": "stdout",
     "output_type": "stream",
     "text": [
      "Epoch 1/5\n",
      "1875/1875 [==============================] - 3s 1ms/step - loss: 0.2967 - accuracy: 0.9138\n",
      "Epoch 2/5\n",
      "1875/1875 [==============================] - 3s 2ms/step - loss: 0.1451 - accuracy: 0.9574\n",
      "Epoch 3/5\n",
      "1875/1875 [==============================] - 3s 2ms/step - loss: 0.1088 - accuracy: 0.9669\n",
      "Epoch 4/5\n",
      "1875/1875 [==============================] - 3s 1ms/step - loss: 0.0900 - accuracy: 0.9721\n",
      "Epoch 5/5\n",
      "1875/1875 [==============================] - 3s 1ms/step - loss: 0.0725 - accuracy: 0.9768\n",
      "313/313 - 0s - loss: 14.2210 - accuracy: 0.9749\n"
     ]
    },
    {
     "data": {
      "text/plain": [
       "[14.221033096313477, 0.9749000072479248]"
      ]
     },
     "execution_count": 11,
     "metadata": {},
     "output_type": "execute_result"
    }
   ],
   "source": [
    "mnist = tf.keras.datasets.mnist\n",
    "(x_train,y_train),(x_test,y_test) = mnist.load_data()\n",
    "x_train,x_tesy = x_train/255.0,x_test/255.0\n",
    "model = tf.keras.models.Sequential()\n",
    "model.add(tf.keras.layers.Flatten(input_shape=(28,28)))\n",
    "model.add(tf.keras.layers.Dense(128,activation = 'relu'))\n",
    "model.add(tf.keras.layers.Dropout(0.2))#随机丢弃避免过拟合\n",
    "model.add(tf.keras.layers.Dense(10,activation=\"softmax\"))\n",
    "\n",
    "model.compile(optimizer='adam',loss='sparse_categorical_crossentropy',metrics=['accuracy'])\n",
    "model.fit(x_train,y_train,epochs=5)\n",
    "model.evaluate(x_test,y_test,verbose=2)"
   ]
  },
  {
   "cell_type": "code",
   "execution_count": 13,
   "metadata": {},
   "outputs": [
    {
     "name": "stdout",
     "output_type": "stream",
     "text": [
      "我是A\n",
      "我是B，我12岁了\n"
     ]
    }
   ],
   "source": [
    "class cat:\n",
    "    def __init__(self, name):\n",
    "        self.name = name\n",
    "    def speak(self):\n",
    "        print(\"我是%s\" %(self.name))\n",
    "class black_cat(cat):\n",
    "    def __init__(self, name, age):\n",
    "        cat.__init__(self,name)\n",
    "        self.age = age\n",
    "    def speak(self):\n",
    "        print(\"我是%s，我%d岁了\"%(self.name,self.age))\n",
    "        \n",
    "s = cat('A')\n",
    "s.speak()\n",
    "s2 = black_cat(\"B\",12)\n",
    "s2.speak()"
   ]
  },
  {
   "cell_type": "code",
   "execution_count": 20,
   "metadata": {},
   "outputs": [
    {
     "data": {
      "text/plain": [
       "(<tf.Tensor: shape=(4,), dtype=float32, numpy=array([-1.783326 ,  2.0196269,  2.1668994, -1.2422489], dtype=float32)>,\n",
       " <tf.Tensor: shape=(4, 1), dtype=float32, numpy=\n",
       " array([[-0.5395514 ],\n",
       "        [ 0.39849716],\n",
       "        [-1.9209759 ],\n",
       "        [-0.33339927]], dtype=float32)>)"
      ]
     },
     "execution_count": 20,
     "metadata": {},
     "output_type": "execute_result"
    }
   ],
   "source": [
    "a = tf.random.normal([4,])\n",
    "b = tf.random.normal([4,1])\n",
    "a,b"
   ]
  },
  {
   "cell_type": "code",
   "execution_count": 19,
   "metadata": {},
   "outputs": [
    {
     "data": {
      "text/plain": [
       "<tf.Tensor: shape=(4, 1), dtype=float32, numpy=\n",
       "array([[ 2.4926577],\n",
       "       [ 1.907159 ],\n",
       "       [ 1.7571728],\n",
       "       [-1.3040956]], dtype=float32)>"
      ]
     },
     "execution_count": 19,
     "metadata": {},
     "output_type": "execute_result"
    }
   ],
   "source": [
    "b"
   ]
  },
  {
   "cell_type": "code",
   "execution_count": null,
   "metadata": {},
   "outputs": [],
   "source": []
  }
 ],
 "metadata": {
  "kernelspec": {
   "display_name": "Python 3",
   "language": "python",
   "name": "python3"
  },
  "language_info": {
   "codemirror_mode": {
    "name": "ipython",
    "version": 3
   },
   "file_extension": ".py",
   "mimetype": "text/x-python",
   "name": "python",
   "nbconvert_exporter": "python",
   "pygments_lexer": "ipython3",
   "version": "3.7.9"
  }
 },
 "nbformat": 4,
 "nbformat_minor": 4
}
