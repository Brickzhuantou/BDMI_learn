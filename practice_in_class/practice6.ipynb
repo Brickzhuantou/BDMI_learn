{
 "cells": [
  {
   "cell_type": "code",
   "execution_count": 1,
   "metadata": {},
   "outputs": [],
   "source": [
    "%load_ext sql\n",
    "%sql sqlite://"
   ]
  },
  {
   "cell_type": "code",
   "execution_count": 2,
   "metadata": {},
   "outputs": [
    {
     "name": "stdout",
     "output_type": "stream",
     "text": [
      " * sqlite://\n",
      "Done.\n",
      "Done.\n",
      "Done.\n",
      "Done.\n",
      "1 rows affected.\n",
      "1 rows affected.\n",
      "1 rows affected.\n",
      "Done.\n",
      "1 rows affected.\n",
      "1 rows affected.\n",
      "1 rows affected.\n",
      "1 rows affected.\n"
     ]
    },
    {
     "data": {
      "text/plain": [
       "[]"
      ]
     },
     "execution_count": 2,
     "metadata": {},
     "output_type": "execute_result"
    }
   ],
   "source": [
    "%%sql\n",
    "pragma foreign_keys = ON; -- WARNING: by default off in sqlite\n",
    "drop table if exists product; -- This needs to be dropped if exists, see why further down!\n",
    "drop table if exists company;\n",
    "create table company (\n",
    "    cname varchar primary key, -- company name uniquely identifies the company.\n",
    "    stockprice money, -- stock price is in money \n",
    "    country varchar); -- country is just a string\n",
    "insert into company values ('GizmoWorks', 25.0, 'USA');\n",
    "insert into company values ('Canon', 65.0, 'Japan');\n",
    "insert into company values ('Hitachi', 15.0, 'Japan');\n",
    "create table product(\n",
    "       pname varchar primary key, -- name of the product\n",
    "       price money, -- price of the product\n",
    "       category varchar, -- category\n",
    "       manufacturer varchar, -- manufacturer\n",
    "       foreign key (manufacturer) references company(cname));\n",
    "insert into product values('Gizmo', 19.99, 'Gadgets', 'GizmoWorks');\n",
    "insert into product values('SingleTouch', 149.99, 'Photography', 'Canon');\n",
    "insert into product values('PowerGizmo', 29.99, 'Gadgets', 'GizmoWorks');\n",
    "insert into product values('MultiTouch', 203.99, 'Household', 'Hitachi');"
   ]
  },
  {
   "cell_type": "code",
   "execution_count": 3,
   "metadata": {},
   "outputs": [
    {
     "name": "stdout",
     "output_type": "stream",
     "text": [
      " * sqlite://\n",
      "Done.\n",
      "Done.\n",
      "1 rows affected.\n",
      "1 rows affected.\n",
      "1 rows affected.\n",
      "Done.\n",
      "Done.\n",
      "1 rows affected.\n",
      "1 rows affected.\n",
      "1 rows affected.\n",
      "1 rows affected.\n",
      "1 rows affected.\n",
      "Done.\n",
      "Done.\n",
      "1 rows affected.\n",
      "1 rows affected.\n",
      "1 rows affected.\n",
      "1 rows affected.\n",
      "1 rows affected.\n",
      "1 rows affected.\n",
      "Done.\n",
      "Done.\n",
      "1 rows affected.\n",
      "1 rows affected.\n",
      "1 rows affected.\n",
      "1 rows affected.\n",
      "1 rows affected.\n",
      "1 rows affected.\n"
     ]
    },
    {
     "data": {
      "text/plain": [
       "[]"
      ]
     },
     "execution_count": 3,
     "metadata": {},
     "output_type": "execute_result"
    }
   ],
   "source": [
    "%%sql\n",
    "DROP TABLE IF EXISTS franchise;\n",
    "CREATE TABLE franchise (name TEXT, db_type TEXT);\n",
    "INSERT INTO franchise VALUES ('Bobs Bagels', 'NoSQL');\n",
    "INSERT INTO franchise VALUES ('eBagel', 'NoSQL');\n",
    "INSERT INTO franchise VALUES ('BAGEL CORP', 'MySQL');\n",
    "\n",
    "DROP TABLE IF EXISTS store;\n",
    "CREATE TABLE store (franchise TEXT, location TEXT);\n",
    "INSERT INTO store VALUES ('Bobs Bagels', 'NYC');\n",
    "INSERT INTO store VALUES ('eBagel', 'PA');\n",
    "INSERT INTO store VALUES ('BAGEL CORP', 'Chicago');\n",
    "INSERT INTO store VALUES ('BAGEL CORP', 'NYC');\n",
    "INSERT INTO store VALUES ('BAGEL CORP', 'PA');\n",
    "\n",
    "DROP TABLE IF EXISTS bagel;\n",
    "CREATE TABLE bagel (name TEXT, price MONEY, made_by TEXT);\n",
    "INSERT INTO bagel VALUES ('Plain with shmear', 1.99, 'Bobs Bagels');\n",
    "INSERT INTO bagel VALUES ('Egg with shmear', 2.39, 'Bobs Bagels');\n",
    "INSERT INTO bagel VALUES ('eBagel Drinkable Bagel', 27.99, 'eBagel');\n",
    "INSERT INTO bagel VALUES ('eBagel Expansion Pack', 1.99, 'eBagel');\n",
    "INSERT INTO bagel VALUES ('Plain with shmear', 0.99, 'BAGEL CORP');\n",
    "INSERT INTO bagel VALUES ('Organic Flax-seed bagel chips', 0.99, 'BAGEL CORP');\n",
    "\n",
    "DROP TABLE IF EXISTS purchase;\n",
    "-- Note that date is an int here just to simplify things\n",
    "CREATE TABLE purchase (bagel_name TEXT, franchise TEXT, date INT, quantity INT, purchaser_age INT);\n",
    "INSERT INTO purchase VALUES ('Plain with shmear', 'Bobs Bagels', 1, 12, 28);\n",
    "INSERT INTO purchase VALUES ('Egg with shmear', 'Bobs Bagels', 2, 6, 47);\n",
    "INSERT INTO purchase VALUES ('Plain with shmear', 'BAGEL CORP', 2, 12, 24);\n",
    "INSERT INTO purchase VALUES ('Plain with shmear', 'BAGEL CORP', 3, 1, 17);\n",
    "INSERT INTO purchase VALUES ('eBagel Expansion Pack', 'eBagel', 1, 137, 5);\n",
    "INSERT INTO purchase VALUES ('Plain with shmear', 'Bobs Bagels', 4, 24, NULL);"
   ]
  },
  {
   "cell_type": "code",
   "execution_count": 4,
   "metadata": {},
   "outputs": [
    {
     "name": "stdout",
     "output_type": "stream",
     "text": [
      " * sqlite://\n",
      "Done.\n"
     ]
    },
    {
     "data": {
      "text/html": [
       "<table>\n",
       "    <tr>\n",
       "        <th>pname</th>\n",
       "        <th>price</th>\n",
       "        <th>category</th>\n",
       "        <th>manufacturer</th>\n",
       "    </tr>\n",
       "    <tr>\n",
       "        <td>Gizmo</td>\n",
       "        <td>19.99</td>\n",
       "        <td>Gadgets</td>\n",
       "        <td>GizmoWorks</td>\n",
       "    </tr>\n",
       "    <tr>\n",
       "        <td>SingleTouch</td>\n",
       "        <td>149.99</td>\n",
       "        <td>Photography</td>\n",
       "        <td>Canon</td>\n",
       "    </tr>\n",
       "    <tr>\n",
       "        <td>PowerGizmo</td>\n",
       "        <td>29.99</td>\n",
       "        <td>Gadgets</td>\n",
       "        <td>GizmoWorks</td>\n",
       "    </tr>\n",
       "    <tr>\n",
       "        <td>MultiTouch</td>\n",
       "        <td>203.99</td>\n",
       "        <td>Household</td>\n",
       "        <td>Hitachi</td>\n",
       "    </tr>\n",
       "</table>"
      ],
      "text/plain": [
       "[('Gizmo', 19.99, 'Gadgets', 'GizmoWorks'),\n",
       " ('SingleTouch', 149.99, 'Photography', 'Canon'),\n",
       " ('PowerGizmo', 29.99, 'Gadgets', 'GizmoWorks'),\n",
       " ('MultiTouch', 203.99, 'Household', 'Hitachi')]"
      ]
     },
     "execution_count": 4,
     "metadata": {},
     "output_type": "execute_result"
    }
   ],
   "source": [
    "%sql SELECT * FROM Product;"
   ]
  },
  {
   "cell_type": "code",
   "execution_count": 5,
   "metadata": {},
   "outputs": [
    {
     "name": "stdout",
     "output_type": "stream",
     "text": [
      " * sqlite://\n",
      "Done.\n"
     ]
    },
    {
     "data": {
      "text/html": [
       "<table>\n",
       "    <tr>\n",
       "        <th>pname</th>\n",
       "        <th>price</th>\n",
       "    </tr>\n",
       "    <tr>\n",
       "        <td>Gizmo</td>\n",
       "        <td>19.99</td>\n",
       "    </tr>\n",
       "    <tr>\n",
       "        <td>MultiTouch</td>\n",
       "        <td>203.99</td>\n",
       "    </tr>\n",
       "    <tr>\n",
       "        <td>PowerGizmo</td>\n",
       "        <td>29.99</td>\n",
       "    </tr>\n",
       "    <tr>\n",
       "        <td>SingleTouch</td>\n",
       "        <td>149.99</td>\n",
       "    </tr>\n",
       "</table>"
      ],
      "text/plain": [
       "[('Gizmo', 19.99),\n",
       " ('MultiTouch', 203.99),\n",
       " ('PowerGizmo', 29.99),\n",
       " ('SingleTouch', 149.99)]"
      ]
     },
     "execution_count": 5,
     "metadata": {},
     "output_type": "execute_result"
    }
   ],
   "source": [
    "%%sql SELECT pname,price FROM Product\n",
    "ORDER BY pname"
   ]
  },
  {
   "cell_type": "code",
   "execution_count": 7,
   "metadata": {},
   "outputs": [
    {
     "name": "stdout",
     "output_type": "stream",
     "text": [
      " * sqlite://\n",
      "Done.\n"
     ]
    },
    {
     "data": {
      "text/html": [
       "<table>\n",
       "    <tr>\n",
       "        <th>pname</th>\n",
       "    </tr>\n",
       "    <tr>\n",
       "        <td>MultiTouch</td>\n",
       "    </tr>\n",
       "    <tr>\n",
       "        <td>SingleTouch</td>\n",
       "    </tr>\n",
       "    <tr>\n",
       "        <td>PowerGizmo</td>\n",
       "    </tr>\n",
       "    <tr>\n",
       "        <td>Gizmo</td>\n",
       "    </tr>\n",
       "</table>"
      ],
      "text/plain": [
       "[('MultiTouch',), ('SingleTouch',), ('PowerGizmo',), ('Gizmo',)]"
      ]
     },
     "execution_count": 7,
     "metadata": {},
     "output_type": "execute_result"
    }
   ],
   "source": [
    "%%sql SELECT pname FROM Product\n",
    "ORDER BY Price desc#desc降序排列"
   ]
  },
  {
   "cell_type": "code",
   "execution_count": 8,
   "metadata": {},
   "outputs": [
    {
     "name": "stdout",
     "output_type": "stream",
     "text": [
      " * sqlite://\n",
      "Done.\n",
      "Done.\n",
      "Done.\n",
      " * sqlite://\n",
      "Done.\n",
      "Done.\n",
      "Done.\n",
      " * sqlite://\n",
      "1 rows affected.\n",
      " * sqlite://\n",
      "1 rows affected.\n",
      " * sqlite://\n",
      "1 rows affected.\n",
      " * sqlite://\n",
      "1 rows affected.\n",
      " * sqlite://\n",
      "1 rows affected.\n",
      " * sqlite://\n",
      "1 rows affected.\n",
      " * sqlite://\n",
      "1 rows affected.\n",
      " * sqlite://\n",
      "1 rows affected.\n",
      " * sqlite://\n",
      "1 rows affected.\n"
     ]
    }
   ],
   "source": [
    "# Note: in Postgresql, try the generate_series function...\n",
    "%sql DROP TABLE IF EXISTS R; DROP TABLE IF EXISTS S; DROP TABLE IF EXISTS T;\n",
    "%sql CREATE TABLE R (A int); CREATE TABLE S (A int); CREATE TABLE T (A int);\n",
    "for i in range(1,6):\n",
    "    %sql INSERT INTO R VALUES (:i)\n",
    "for i in range(1,11,3):\n",
    "    %sql INSERT INTO T VALUES (:i)"
   ]
  },
  {
   "cell_type": "code",
   "execution_count": 9,
   "metadata": {},
   "outputs": [
    {
     "name": "stdout",
     "output_type": "stream",
     "text": [
      " * sqlite://\n",
      "Done.\n"
     ]
    },
    {
     "data": {
      "text/html": [
       "<table>\n",
       "    <tr>\n",
       "        <th>A</th>\n",
       "    </tr>\n",
       "</table>"
      ],
      "text/plain": [
       "[]"
      ]
     },
     "execution_count": 9,
     "metadata": {},
     "output_type": "execute_result"
    }
   ],
   "source": [
    "%%sql SELECT DISTINCT R.A FROM R, S, T\n",
    "WHERE R.A=S.A OR R.A=T.A"
   ]
  },
  {
   "cell_type": "code",
   "execution_count": 14,
   "metadata": {},
   "outputs": [
    {
     "name": "stdout",
     "output_type": "stream",
     "text": [
      " * sqlite://\n",
      "Done.\n"
     ]
    },
    {
     "data": {
      "text/html": [
       "<table>\n",
       "    <tr>\n",
       "        <th>A</th>\n",
       "    </tr>\n",
       "</table>"
      ],
      "text/plain": [
       "[]"
      ]
     },
     "execution_count": 14,
     "metadata": {},
     "output_type": "execute_result"
    }
   ],
   "source": [
    "%sql select * from S\n"
   ]
  },
  {
   "cell_type": "code",
   "execution_count": 15,
   "metadata": {},
   "outputs": [
    {
     "name": "stdout",
     "output_type": "stream",
     "text": [
      " * sqlite://\n",
      "Done.\n"
     ]
    },
    {
     "data": {
      "text/html": [
       "<table>\n",
       "    <tr>\n",
       "        <th>A</th>\n",
       "    </tr>\n",
       "</table>"
      ],
      "text/plain": [
       "[]"
      ]
     },
     "execution_count": 15,
     "metadata": {},
     "output_type": "execute_result"
    }
   ],
   "source": [
    "%%sql\n",
    "SELECT R.A FROM R, S, T WHERE R.A = S.A\n",
    "INTERSECT\n",
    "SELECT R.A FROM R, S, T WHERE R.A = T.A"
   ]
  },
  {
   "cell_type": "code",
   "execution_count": 16,
   "metadata": {},
   "outputs": [
    {
     "name": "stdout",
     "output_type": "stream",
     "text": [
      " * sqlite://\n",
      "Done.\n"
     ]
    },
    {
     "data": {
      "text/html": [
       "<table>\n",
       "    <tr>\n",
       "        <th>A</th>\n",
       "    </tr>\n",
       "</table>"
      ],
      "text/plain": [
       "[]"
      ]
     },
     "execution_count": 16,
     "metadata": {},
     "output_type": "execute_result"
    }
   ],
   "source": [
    "%%sql\n",
    "SELECT R.A FROM R, S, T WHERE R.A = S.A\n",
    "EXCEPT\n",
    "SELECT R.A FROM R, S, T WHERE R.A = T.A"
   ]
  },
  {
   "cell_type": "code",
   "execution_count": 18,
   "metadata": {},
   "outputs": [
    {
     "name": "stdout",
     "output_type": "stream",
     "text": [
      " * sqlite://\n",
      "Done.\n"
     ]
    },
    {
     "data": {
      "text/html": [
       "<table>\n",
       "    <tr>\n",
       "        <th>franchise</th>\n",
       "    </tr>\n",
       "    <tr>\n",
       "        <td>Bobs Bagels</td>\n",
       "    </tr>\n",
       "    <tr>\n",
       "        <td>BAGEL CORP</td>\n",
       "    </tr>\n",
       "</table>"
      ],
      "text/plain": [
       "[('Bobs Bagels',), ('BAGEL CORP',)]"
      ]
     },
     "execution_count": 18,
     "metadata": {},
     "output_type": "execute_result"
    }
   ],
   "source": [
    "%%sql \n",
    "SELECT franchise FROM store WHERE location = 'NYC'\n",
    "\n"
   ]
  },
  {
   "cell_type": "code",
   "execution_count": 20,
   "metadata": {},
   "outputs": [
    {
     "name": "stdout",
     "output_type": "stream",
     "text": [
      " * sqlite://\n",
      "Done.\n"
     ]
    },
    {
     "data": {
      "text/html": [
       "<table>\n",
       "    <tr>\n",
       "        <th>db_type</th>\n",
       "    </tr>\n",
       "    <tr>\n",
       "        <td>NoSQL</td>\n",
       "    </tr>\n",
       "    <tr>\n",
       "        <td>MySQL</td>\n",
       "    </tr>\n",
       "</table>"
      ],
      "text/plain": [
       "[('NoSQL',), ('MySQL',)]"
      ]
     },
     "execution_count": 20,
     "metadata": {},
     "output_type": "execute_result"
    }
   ],
   "source": [
    "%%sql\n",
    "SELECT f.db_type\n",
    "FROM franchise f, store s \n",
    "WHERE f.name = s.franchise AND s.location = 'NYC'\n",
    "INTERSECT\n",
    "SELECT f.db_type\n",
    "FROM franchise f, store s \n",
    "WHERE f.name = s.franchise AND s.location = 'PA'"
   ]
  },
  {
   "cell_type": "code",
   "execution_count": 21,
   "metadata": {},
   "outputs": [
    {
     "name": "stdout",
     "output_type": "stream",
     "text": [
      " * sqlite://\n",
      "Done.\n"
     ]
    },
    {
     "data": {
      "text/html": [
       "<table>\n",
       "    <tr>\n",
       "        <th>name</th>\n",
       "        <th>location</th>\n",
       "        <th>db_type</th>\n",
       "    </tr>\n",
       "    <tr>\n",
       "        <td>Bobs Bagels</td>\n",
       "        <td>NYC</td>\n",
       "        <td>NoSQL</td>\n",
       "    </tr>\n",
       "    <tr>\n",
       "        <td>eBagel</td>\n",
       "        <td>PA</td>\n",
       "        <td>NoSQL</td>\n",
       "    </tr>\n",
       "    <tr>\n",
       "        <td>BAGEL CORP</td>\n",
       "        <td>Chicago</td>\n",
       "        <td>MySQL</td>\n",
       "    </tr>\n",
       "    <tr>\n",
       "        <td>BAGEL CORP</td>\n",
       "        <td>NYC</td>\n",
       "        <td>MySQL</td>\n",
       "    </tr>\n",
       "    <tr>\n",
       "        <td>BAGEL CORP</td>\n",
       "        <td>PA</td>\n",
       "        <td>MySQL</td>\n",
       "    </tr>\n",
       "</table>"
      ],
      "text/plain": [
       "[('Bobs Bagels', 'NYC', 'NoSQL'),\n",
       " ('eBagel', 'PA', 'NoSQL'),\n",
       " ('BAGEL CORP', 'Chicago', 'MySQL'),\n",
       " ('BAGEL CORP', 'NYC', 'MySQL'),\n",
       " ('BAGEL CORP', 'PA', 'MySQL')]"
      ]
     },
     "execution_count": 21,
     "metadata": {},
     "output_type": "execute_result"
    }
   ],
   "source": [
    "\n",
    "%%sql \n",
    "SELECT f.name, s.location, f.db_type\n",
    "FROM franchise f, store s \n",
    "WHERE f.name = s.franchise;\n"
   ]
  },
  {
   "cell_type": "code",
   "execution_count": 22,
   "metadata": {},
   "outputs": [
    {
     "name": "stdout",
     "output_type": "stream",
     "text": [
      " * sqlite://\n",
      "Done.\n"
     ]
    },
    {
     "data": {
      "text/html": [
       "<table>\n",
       "    <tr>\n",
       "        <th>db_type</th>\n",
       "    </tr>\n",
       "    <tr>\n",
       "        <td>NoSQL</td>\n",
       "    </tr>\n",
       "    <tr>\n",
       "        <td>MySQL</td>\n",
       "    </tr>\n",
       "</table>"
      ],
      "text/plain": [
       "[('NoSQL',), ('MySQL',)]"
      ]
     },
     "execution_count": 22,
     "metadata": {},
     "output_type": "execute_result"
    }
   ],
   "source": [
    "%%sql SELECT f.db_type\n",
    "FROM franchise f, store s\n",
    "WHERE f.name = s.franchise AND s.location = 'PA'"
   ]
  },
  {
   "cell_type": "code",
   "execution_count": 23,
   "metadata": {},
   "outputs": [
    {
     "name": "stdout",
     "output_type": "stream",
     "text": [
      " * sqlite://\n",
      "Done.\n"
     ]
    },
    {
     "data": {
      "text/html": [
       "<table>\n",
       "    <tr>\n",
       "        <th>db_type</th>\n",
       "    </tr>\n",
       "    <tr>\n",
       "        <td>NoSQL</td>\n",
       "    </tr>\n",
       "    <tr>\n",
       "        <td>MySQL</td>\n",
       "    </tr>\n",
       "</table>"
      ],
      "text/plain": [
       "[('NoSQL',), ('MySQL',)]"
      ]
     },
     "execution_count": 23,
     "metadata": {},
     "output_type": "execute_result"
    }
   ],
   "source": [
    "\n",
    "%%sql\n",
    "SELECT f.db_type\n",
    "FROM franchise f\n",
    "WHERE f.name IN (\n",
    "    SELECT b.made_by\n",
    "    FROM bagel b, purchase p\n",
    "    WHERE b.name = p.bagel_name \n",
    "      AND p.purchaser_age >= 20 AND p.purchaser_age < 30);"
   ]
  },
  {
   "cell_type": "code",
   "execution_count": 25,
   "metadata": {},
   "outputs": [
    {
     "name": "stdout",
     "output_type": "stream",
     "text": [
      " * sqlite://\n",
      "Done.\n"
     ]
    },
    {
     "data": {
      "text/html": [
       "<table>\n",
       "    <tr>\n",
       "        <th>name</th>\n",
       "        <th>price</th>\n",
       "    </tr>\n",
       "    <tr>\n",
       "        <td>eBagel Expansion Pack</td>\n",
       "        <td>1.99</td>\n",
       "    </tr>\n",
       "</table>"
      ],
      "text/plain": [
       "[('eBagel Expansion Pack', 1.99)]"
      ]
     },
     "execution_count": 25,
     "metadata": {},
     "output_type": "execute_result"
    }
   ],
   "source": [
    "\n",
    "%%sql\n",
    "SELECT b.name, b.price\n",
    "FROM bagel b\n",
    "WHERE b.made_by = 'eBagel'\n",
    "  AND EXISTS (SELECT name FROM bagel WHERE made_by != 'eBagel' AND price > b.price);"
   ]
  },
  {
   "cell_type": "code",
   "execution_count": 26,
   "metadata": {},
   "outputs": [
    {
     "name": "stdout",
     "output_type": "stream",
     "text": [
      " * sqlite://\n",
      "Done.\n"
     ]
    },
    {
     "data": {
      "text/html": [
       "<table>\n",
       "    <tr>\n",
       "        <th>AVG(price)</th>\n",
       "    </tr>\n",
       "    <tr>\n",
       "        <td>14.989999999999998</td>\n",
       "    </tr>\n",
       "</table>"
      ],
      "text/plain": [
       "[(14.989999999999998,)]"
      ]
     },
     "execution_count": 26,
     "metadata": {},
     "output_type": "execute_result"
    }
   ],
   "source": [
    "%sql SELECT AVG(price) FROM bagel WHERE made_by = 'eBagel'\n"
   ]
  },
  {
   "cell_type": "code",
   "execution_count": 27,
   "metadata": {},
   "outputs": [
    {
     "name": "stdout",
     "output_type": "stream",
     "text": [
      " * sqlite://\n",
      "(sqlite3.OperationalError) near \"of\": syntax error\n",
      "[SQL: SELECT COUNT(*) AS Number of Stores in PA FROM store WHERE location = 'PA';]\n",
      "(Background on this error at: http://sqlalche.me/e/13/e3q8)\n"
     ]
    }
   ],
   "source": [
    "%sql SELECT COUNT(*) AS \"Number of Stores in PA\" FROM store WHERE location = 'PA';"
   ]
  },
  {
   "cell_type": "code",
   "execution_count": 28,
   "metadata": {},
   "outputs": [
    {
     "name": "stdout",
     "output_type": "stream",
     "text": [
      " * sqlite://\n",
      "Done.\n"
     ]
    },
    {
     "data": {
      "text/html": [
       "<table>\n",
       "    <tr>\n",
       "        <th>COUNT(location)</th>\n",
       "    </tr>\n",
       "    <tr>\n",
       "        <td>5</td>\n",
       "    </tr>\n",
       "</table>"
      ],
      "text/plain": [
       "[(5,)]"
      ]
     },
     "execution_count": 28,
     "metadata": {},
     "output_type": "execute_result"
    }
   ],
   "source": [
    "\n",
    "%sql SELECT COUNT(location) FROM store;"
   ]
  },
  {
   "cell_type": "code",
   "execution_count": 29,
   "metadata": {},
   "outputs": [
    {
     "name": "stdout",
     "output_type": "stream",
     "text": [
      " * sqlite://\n",
      "Done.\n"
     ]
    },
    {
     "data": {
      "text/html": [
       "<table>\n",
       "    <tr>\n",
       "        <th>name</th>\n",
       "        <th>prices</th>\n",
       "        <th>made_bys</th>\n",
       "        <th>bagel_name</th>\n",
       "        <th>franchises</th>\n",
       "        <th>dates</th>\n",
       "        <th>quantities</th>\n",
       "        <th>purchaser_ages</th>\n",
       "    </tr>\n",
       "    <tr>\n",
       "        <td>Egg with shmear</td>\n",
       "        <td>2.39</td>\n",
       "        <td>Bobs Bagels</td>\n",
       "        <td>Egg with shmear</td>\n",
       "        <td>Bobs Bagels</td>\n",
       "        <td>2</td>\n",
       "        <td>6</td>\n",
       "        <td>47</td>\n",
       "    </tr>\n",
       "    <tr>\n",
       "        <td>Plain with shmear</td>\n",
       "        <td>1.99,1.99,0.99,0.99</td>\n",
       "        <td>Bobs Bagels,Bobs Bagels,BAGEL CORP,BAGEL CORP</td>\n",
       "        <td>Plain with shmear</td>\n",
       "        <td>Bobs Bagels,Bobs Bagels,BAGEL CORP,BAGEL CORP</td>\n",
       "        <td>1,4,2,3</td>\n",
       "        <td>12,24,12,1</td>\n",
       "        <td>28,24,17</td>\n",
       "    </tr>\n",
       "    <tr>\n",
       "        <td>eBagel Expansion Pack</td>\n",
       "        <td>1.99</td>\n",
       "        <td>eBagel</td>\n",
       "        <td>eBagel Expansion Pack</td>\n",
       "        <td>eBagel</td>\n",
       "        <td>1</td>\n",
       "        <td>137</td>\n",
       "        <td>5</td>\n",
       "    </tr>\n",
       "</table>"
      ],
      "text/plain": [
       "[('Egg with shmear', '2.39', 'Bobs Bagels', 'Egg with shmear', 'Bobs Bagels', '2', '6', '47'),\n",
       " ('Plain with shmear', '1.99,1.99,0.99,0.99', 'Bobs Bagels,Bobs Bagels,BAGEL CORP,BAGEL CORP', 'Plain with shmear', 'Bobs Bagels,Bobs Bagels,BAGEL CORP,BAGEL CORP', '1,4,2,3', '12,24,12,1', '28,24,17'),\n",
       " ('eBagel Expansion Pack', '1.99', 'eBagel', 'eBagel Expansion Pack', 'eBagel', '1', '137', '5')]"
      ]
     },
     "execution_count": 29,
     "metadata": {},
     "output_type": "execute_result"
    }
   ],
   "source": [
    "%%sql\n",
    "SELECT \n",
    "    b.name,\n",
    "    GROUP_CONCAT(b.price, ',') AS prices,\n",
    "    GROUP_CONCAT(b.made_by, ',') AS made_bys,\n",
    "    bagel_name, \n",
    "    GROUP_CONCAT(p.franchise, ',') AS franchises,\n",
    "    GROUP_CONCAT(p.date, ',') AS dates,\n",
    "    GROUP_CONCAT(p.quantity, ',') AS quantities,\n",
    "    GROUP_CONCAT(p.purchaser_age, ',') AS purchaser_ages\n",
    "FROM bagel b, purchase p\n",
    "WHERE b.name = p.bagel_name AND b.made_by = p.franchise\n",
    "GROUP BY b.name;"
   ]
  },
  {
   "cell_type": "code",
   "execution_count": 44,
   "metadata": {},
   "outputs": [
    {
     "data": {
      "text/plain": [
       "list"
      ]
     },
     "execution_count": 44,
     "metadata": {},
     "output_type": "execute_result"
    }
   ],
   "source": [
    "a = [1,233,4,5]\n",
    "\n",
    "b = a[::-1]\n",
    "type(b)\n"
   ]
  },
  {
   "cell_type": "code",
   "execution_count": 45,
   "metadata": {},
   "outputs": [
    {
     "data": {
      "text/plain": [
       "[1, 100, 7, 11, 13, 15, 17, 19, 20, 22]"
      ]
     },
     "execution_count": 45,
     "metadata": {},
     "output_type": "execute_result"
    }
   ],
   "source": []
  },
  {
   "cell_type": "code",
   "execution_count": null,
   "metadata": {},
   "outputs": [],
   "source": []
  }
 ],
 "metadata": {
  "kernelspec": {
   "display_name": "Python 3",
   "language": "python",
   "name": "python3"
  },
  "language_info": {
   "codemirror_mode": {
    "name": "ipython",
    "version": 3
   },
   "file_extension": ".py",
   "mimetype": "text/x-python",
   "name": "python",
   "nbconvert_exporter": "python",
   "pygments_lexer": "ipython3",
   "version": "3.8.3"
  }
 },
 "nbformat": 4,
 "nbformat_minor": 4
}
