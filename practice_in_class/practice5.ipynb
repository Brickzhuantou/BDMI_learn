{
 "cells": [
  {
   "cell_type": "code",
   "execution_count": 11,
   "metadata": {},
   "outputs": [
    {
     "name": "stdout",
     "output_type": "stream",
     "text": [
      "[[5], [3], [1], [4], [7, 2], [], [], [], [], []]\n",
      "[[5], [3], [1], [4, 9], [7, 2], [], [], [], [], []]\n"
     ]
    }
   ],
   "source": [
    "def hashfun(input):\n",
    "    output = input*7%5\n",
    "    return output\n",
    "\n",
    "\n",
    "list1 = [7,5,3,4,1,2]\n",
    "\n",
    "buckets = [[] for i in range(10)]\n",
    "for i in list1:\n",
    "    buckets[hashfun(i)].append(i)\n",
    "print(buckets)\n",
    "\n",
    "def binsert(bucket, temp):\n",
    "    buckets[hashfun(temp)].append(temp)\n",
    "\n",
    "\n",
    "binsert(buckets, 9)\n",
    "print(buckets)\n"
   ]
  },
  {
   "cell_type": "code",
   "execution_count": 22,
   "metadata": {},
   "outputs": [
    {
     "name": "stdout",
     "output_type": "stream",
     "text": [
      "[(1, 'zhangsan', 'male', 18)]\n"
     ]
    }
   ],
   "source": [
    "import sqlite3\n",
    "db = sqlite3.connect(\"university.db\")\n",
    "cursor = db.cursor()\n",
    "cursor.execute(\"\"\"CREATE TABLE IF NOT EXISTS students\n",
    "(id integer PRIMARY KEY, name text NOT NULL, gender text NOT NULL, age integer NOT NULL);\"\"\")\n",
    "cursor.execute(\"\"\"INSERT INTO students(id, name, gender, age)\n",
    "VALUES(1, 'zhangsan', 'male', 18)\"\"\")\n",
    "\n",
    "db.commit()\n",
    "cursor.execute(\"SELECT * FROM students\")\n",
    "print(cursor.fetchall())\n",
    "db.close()\n",
    "\n"
   ]
  },
  {
   "cell_type": "code",
   "execution_count": 21,
   "metadata": {},
   "outputs": [],
   "source": [
    "import sqlite3\n",
    "db=sqlite3.connect(\"university.db\")\n",
    "cursor=db.cursor()\n",
    "cursor.execute(\"DROP TABLE students\")\n",
    "db.commit()\n",
    "db.close()"
   ]
  },
  {
   "cell_type": "code",
   "execution_count": null,
   "metadata": {},
   "outputs": [],
   "source": []
  }
 ],
 "metadata": {
  "kernelspec": {
   "display_name": "Python 3",
   "language": "python",
   "name": "python3"
  },
  "language_info": {
   "codemirror_mode": {
    "name": "ipython",
    "version": 3
   },
   "file_extension": ".py",
   "mimetype": "text/x-python",
   "name": "python",
   "nbconvert_exporter": "python",
   "pygments_lexer": "ipython3",
   "version": "3.8.3"
  }
 },
 "nbformat": 4,
 "nbformat_minor": 4
}
