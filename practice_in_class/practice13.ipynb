{
 "cells": [
  {
   "cell_type": "code",
   "execution_count": 1,
   "metadata": {},
   "outputs": [],
   "source": [
    "import tensorflow as tf\n",
    "import tensorflow.keras\n",
    "\n",
    "from tensorflow.keras import layers, losses, optimizers, Sequential"
   ]
  },
  {
   "cell_type": "code",
   "execution_count": 7,
   "metadata": {},
   "outputs": [
    {
     "name": "stdout",
     "output_type": "stream",
     "text": [
      "tf.Tensor([0 1 2 3 4 5 6 7 8 9], shape=(10,), dtype=int32)\n"
     ]
    },
    {
     "data": {
      "text/plain": [
       "<tf.Tensor: shape=(10, 4), dtype=float32, numpy=\n",
       "array([[-0.02961577,  0.04216763,  0.00344759,  0.0359213 ],\n",
       "       [ 0.02188409,  0.04180696, -0.00398189, -0.04123566],\n",
       "       [-0.03922368,  0.01668391, -0.0301054 , -0.03916217],\n",
       "       [-0.04543224, -0.00393929,  0.0128033 , -0.01016439],\n",
       "       [ 0.02683202, -0.01638564, -0.03658943, -0.02024445],\n",
       "       [-0.03176405,  0.02756492,  0.0281246 , -0.01937221],\n",
       "       [-0.03276704,  0.02818235,  0.02178252,  0.04620827],\n",
       "       [ 0.01619383, -0.00105233,  0.00969006, -0.01922562],\n",
       "       [-0.00198622,  0.02890385,  0.03815775, -0.03910955],\n",
       "       [ 0.0498397 ,  0.02408623, -0.04270862, -0.04685039]],\n",
       "      dtype=float32)>"
      ]
     },
     "execution_count": 7,
     "metadata": {},
     "output_type": "execute_result"
    }
   ],
   "source": [
    "x = tf.range(10)\n",
    "print(x)\n",
    "x = tf.random.shuffle(x)\n",
    "net = layers.Embedding(10,4)\n",
    "out = net(x)\n",
    "out"
   ]
  },
  {
   "cell_type": "code",
   "execution_count": 8,
   "metadata": {},
   "outputs": [
    {
     "data": {
      "text/plain": [
       "<tf.Variable 'embedding_1/embeddings:0' shape=(10, 4) dtype=float32, numpy=\n",
       "array([[ 0.01619383, -0.00105233,  0.00969006, -0.01922562],\n",
       "       [-0.03276704,  0.02818235,  0.02178252,  0.04620827],\n",
       "       [-0.00198622,  0.02890385,  0.03815775, -0.03910955],\n",
       "       [-0.03922368,  0.01668391, -0.0301054 , -0.03916217],\n",
       "       [ 0.0498397 ,  0.02408623, -0.04270862, -0.04685039],\n",
       "       [ 0.02683202, -0.01638564, -0.03658943, -0.02024445],\n",
       "       [-0.04543224, -0.00393929,  0.0128033 , -0.01016439],\n",
       "       [ 0.02188409,  0.04180696, -0.00398189, -0.04123566],\n",
       "       [-0.02961577,  0.04216763,  0.00344759,  0.0359213 ],\n",
       "       [-0.03176405,  0.02756492,  0.0281246 , -0.01937221]],\n",
       "      dtype=float32)>"
      ]
     },
     "execution_count": 8,
     "metadata": {},
     "output_type": "execute_result"
    }
   ],
   "source": [
    "net.embeddings"
   ]
  },
  {
   "cell_type": "code",
   "execution_count": 10,
   "metadata": {},
   "outputs": [
    {
     "data": {
      "text/plain": [
       "[<tf.Variable 'kernel:0' shape=(4, 3) dtype=float32, numpy=\n",
       " array([[-0.5027132 ,  0.6620033 ,  0.12959373],\n",
       "        [ 0.56586933, -0.2874576 , -0.20037037],\n",
       "        [ 0.5140486 , -0.80447626,  0.16425765],\n",
       "        [-0.43943116, -0.14867848,  0.61983716]], dtype=float32)>,\n",
       " <tf.Variable 'recurrent_kernel:0' shape=(3, 3) dtype=float32, numpy=\n",
       " array([[-0.24463332,  0.9590473 ,  0.14276786],\n",
       "        [ 0.96929663,  0.24566406,  0.01063761],\n",
       "        [-0.02487097,  0.14098673, -0.98969907]], dtype=float32)>,\n",
       " <tf.Variable 'bias:0' shape=(3,) dtype=float32, numpy=array([0., 0., 0.], dtype=float32)>]"
      ]
     },
     "execution_count": 10,
     "metadata": {},
     "output_type": "execute_result"
    }
   ],
   "source": [
    "cell = layers.SimpleRNNCell(3)\n",
    "cell.build(input_shape = (None,4))\n",
    "cell.trainable_variables"
   ]
  },
  {
   "cell_type": "code",
   "execution_count": null,
   "metadata": {},
   "outputs": [],
   "source": []
  }
 ],
 "metadata": {
  "kernelspec": {
   "display_name": "Python 3",
   "language": "python",
   "name": "python3"
  },
  "language_info": {
   "codemirror_mode": {
    "name": "ipython",
    "version": 3
   },
   "file_extension": ".py",
   "mimetype": "text/x-python",
   "name": "python",
   "nbconvert_exporter": "python",
   "pygments_lexer": "ipython3",
   "version": "3.7.9"
  }
 },
 "nbformat": 4,
 "nbformat_minor": 4
}
